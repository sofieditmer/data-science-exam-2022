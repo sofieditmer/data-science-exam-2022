{
 "cells": [
  {
   "cell_type": "markdown",
   "id": "990ad029-2528-4f43-9d09-617c7c8dc84d",
   "metadata": {},
   "source": [
    "# Preparing Data\n",
    "\n",
    "This notebooks prepares data and data splits for the training and evaluation of YOLOv5."
   ]
  },
  {
   "cell_type": "markdown",
   "id": "823294b6-607d-4ef1-b6d8-18965cac84f9",
   "metadata": {},
   "source": [
    "#### Importing Packages"
   ]
  },
  {
   "cell_type": "code",
   "execution_count": 3,
   "id": "c8379c6b-13dd-4bba-a3e2-3831f0e15599",
   "metadata": {
    "execution": {
     "iopub.execute_input": "2022-05-30T14:37:26.670994Z",
     "iopub.status.busy": "2022-05-30T14:37:26.670498Z",
     "iopub.status.idle": "2022-05-30T14:37:26.957039Z",
     "shell.execute_reply": "2022-05-30T14:37:26.956327Z",
     "shell.execute_reply.started": "2022-05-30T14:37:26.670943Z"
    },
    "tags": []
   },
   "outputs": [],
   "source": [
    "import os\n",
    "from PIL import Image\n",
    "import shutil\n",
    "import numpy as np\n",
    "import itertools\n",
    "from sklearn.model_selection import train_test_split\n",
    "import cv2"
   ]
  },
  {
   "cell_type": "markdown",
   "id": "4872a5e0-eb1d-499d-ba18-907f9f60e2ce",
   "metadata": {},
   "source": [
    "#### Processing Labels"
   ]
  },
  {
   "cell_type": "markdown",
   "id": "2f71174f-a7f9-41f5-b728-4f236c28c135",
   "metadata": {},
   "source": [
    "**Renaming classes**"
   ]
  },
  {
   "cell_type": "code",
   "execution_count": 50,
   "id": "3c733808-8646-4567-8922-afb653c6b877",
   "metadata": {
    "execution": {
     "iopub.execute_input": "2022-05-18T12:33:25.024423Z",
     "iopub.status.busy": "2022-05-18T12:33:25.023758Z",
     "iopub.status.idle": "2022-05-18T12:35:55.059306Z",
     "shell.execute_reply": "2022-05-18T12:35:55.056751Z",
     "shell.execute_reply.started": "2022-05-18T12:33:25.024352Z"
    },
    "tags": []
   },
   "outputs": [],
   "source": [
    "for file in sorted(os.listdir(\"data/labels\")):\n",
    "    filepath = os.path.join(\"data\", \"labels\", file)\n",
    "    if filepath.endswith(\".txt\"):\n",
    "        with open(filepath) as f:\n",
    "            lines = f.readlines()\n",
    "            \n",
    "        for index, line in enumerate(lines):\n",
    "            if line[0] == \"1\":\n",
    "                edited_line = \"0\" + line[1:] \n",
    "            elif line[0] == \"2\":\n",
    "                edited_line = \"1\" + line[1:] \n",
    "            else:\n",
    "                edited_line = line\n",
    "            lines[index] = edited_line \n",
    "            \n",
    "        with open(filepath, 'w') as f:\n",
    "            f.writelines(lines)"
   ]
  },
  {
   "cell_type": "markdown",
   "id": "775c1f53-3d5c-4386-9521-40c1525e0ee8",
   "metadata": {},
   "source": [
    "**Removing empty label files**"
   ]
  },
  {
   "cell_type": "code",
   "execution_count": null,
   "id": "504209e1-beba-43ba-94f0-1cb2be6bf975",
   "metadata": {},
   "outputs": [],
   "source": [
    "for file in sorted(os.listdir(\"data/labels\")):\n",
    "    filepath = os.path.join(\"data\", \"labels\", file)\n",
    "    if filepath.endswith(\".txt\"):  \n",
    "        if os.stat(filepath).st_size == 0:  \n",
    "            print(\"Empty:\",filepath)\n",
    "            os.remove(filepath)"
   ]
  },
  {
   "cell_type": "markdown",
   "id": "ce4b4c5f-b98b-4689-a8d5-4494d01c478f",
   "metadata": {},
   "source": [
    "#### Remove non-annotated images"
   ]
  },
  {
   "cell_type": "code",
   "execution_count": 13,
   "id": "5a84b2bc-daef-46a2-8113-5b615baf1e6d",
   "metadata": {
    "execution": {
     "iopub.execute_input": "2022-05-19T08:58:25.089363Z",
     "iopub.status.busy": "2022-05-19T08:58:25.088972Z",
     "iopub.status.idle": "2022-05-19T08:58:25.217863Z",
     "shell.execute_reply": "2022-05-19T08:58:25.216575Z",
     "shell.execute_reply.started": "2022-05-19T08:58:25.089339Z"
    },
    "tags": []
   },
   "outputs": [
    {
     "name": "stdout",
     "output_type": "stream",
     "text": [
      "Label file not found for: 018_11y11m01d_04.tiff\n",
      "Label file not found for: 018_12y02m08d_04.tiff\n",
      "Label file not found for: 031_00y04m07d_03.png\n",
      "Label file not found for: 031_00y06m09d_03.png\n",
      "Label file not found for: 031_00y09m08d_03.png\n",
      "Label file not found for: 031_01y00m14d_03.png\n",
      "Label file not found for: 049_05y00m26d_04_R.png\n",
      "Label file not found for: 053_13y06m18d_02_L'.png\n",
      "Label file not found for: 059_05y06m15d_01.png\n",
      "Label file not found for: 111_14y02m04d_04_L.jpg\n",
      "Label file not found for: 114_20y05m12d_04_R.jpg\n",
      "Label file not found for: 115_17y07m12d_04_R.jpg\n",
      "Label file not found for: 121_13y04m08d_04_L.jpg\n",
      "Label file not found for: 124_18y08m09d_04_L.jpg\n",
      "Label file not found for: 135_08y00m28d_02_L.jpg\n",
      "Label file not found for: 136_13y02m05d_02_L.jpg\n",
      "Label file not found for: 136_18y00m00d_01.jpg\n",
      "Label file not found for: 152_11y11m01d_04_L.jpg\n",
      "Label file not found for: 152_12y02m08d_04_L.jpg\n",
      "Label file not found for: 153_28y08m01d_02_L.jpg\n",
      "Label file not found for: 153_28y08m01d_04_L.jpg\n",
      "Label file not found for: 153_29y10m25d_04_L.jpg\n",
      "Label file not found for: 164_04y00m08d_04_L.jpg\n",
      "Label file not found for: 167_12y00m21d_04_R.jpg\n",
      "Label file not found for: 179_15y11m20d_04_R.jpg\n"
     ]
    }
   ],
   "source": [
    "for file in sorted(os.listdir(\"data/images\")):\n",
    "    filepath = os.path.join(\"data\", \"images\", file)\n",
    "    name, ext = os.path.splitext(file)\n",
    "    if ext != \"\":\n",
    "        labelfile = name + \".txt\"\n",
    "        labelpath = os.path.join(\"data\", \"labels\", labelfile)\n",
    "        if not os.path.exists(labelpath):\n",
    "            print(\"Label file not found for:\", file)\n",
    "            os.remove(filepath)"
   ]
  },
  {
   "cell_type": "code",
   "execution_count": 21,
   "id": "1552a09c-d288-43ca-9840-6ed8f44f2c80",
   "metadata": {
    "execution": {
     "iopub.execute_input": "2022-05-19T09:06:52.107719Z",
     "iopub.status.busy": "2022-05-19T09:06:52.107155Z",
     "iopub.status.idle": "2022-05-19T09:06:52.124152Z",
     "shell.execute_reply": "2022-05-19T09:06:52.123511Z",
     "shell.execute_reply.started": "2022-05-19T09:06:52.107668Z"
    },
    "tags": []
   },
   "outputs": [
    {
     "name": "stdout",
     "output_type": "stream",
     "text": [
      "2084 2083\n"
     ]
    }
   ],
   "source": [
    "labels = []\n",
    "for file in sorted(os.listdir(\"data/labels\")):\n",
    "    labels.append(file)\n",
    "    \n",
    "images = []\n",
    "for file in sorted(os.listdir(\"data/images\")):\n",
    "    images.append(file)\n",
    "    \n",
    "print(len(labels), len(images))"
   ]
  },
  {
   "cell_type": "markdown",
   "id": "62b35a2d-0c4d-4a5c-b238-e6d8bf92015a",
   "metadata": {},
   "source": [
    "#### Processing Background Images"
   ]
  },
  {
   "cell_type": "markdown",
   "id": "ca866e3f-6c92-45ea-b952-2754b52f3d57",
   "metadata": {},
   "source": [
    "**Chests: Rename images**"
   ]
  },
  {
   "cell_type": "code",
   "execution_count": 24,
   "id": "42d2facf-5fc0-4ff4-8544-a6f714366a9c",
   "metadata": {
    "execution": {
     "iopub.execute_input": "2022-05-19T09:17:36.303733Z",
     "iopub.status.busy": "2022-05-19T09:17:36.302933Z",
     "iopub.status.idle": "2022-05-19T09:17:36.750686Z",
     "shell.execute_reply": "2022-05-19T09:17:36.749274Z",
     "shell.execute_reply.started": "2022-05-19T09:17:36.303679Z"
    },
    "tags": []
   },
   "outputs": [],
   "source": [
    "i = 0\n",
    "for file in sorted(os.listdir(\"data/chests\")):\n",
    "    filepath = os.path.join(\"data\", \"chests\", file)\n",
    "    if filepath.endswith(\"jpeg\"):\n",
    "        name, ext = os.path.splitext(file)\n",
    "        newname = str(i) + \"_chest\" + ext\n",
    "        newpath = os.path.join(\"data\", \"chests\", newname)\n",
    "        os.rename(filepath, newpath)\n",
    "        i += 1\n",
    "\n",
    "i = 0\n",
    "for file in sorted(os.listdir(\"data/shoulders\")):\n",
    "    filepath = os.path.join(\"data\", \"shoulders\", file)\n",
    "    if filepath.endswith(\"png\"):\n",
    "        name, ext = os.path.splitext(file)\n",
    "        newname = str(i) + \"_shoulder\" + ext\n",
    "        newpath = os.path.join(\"data\", \"shoulders\", newname)\n",
    "        os.rename(filepath, newpath)\n",
    "        i += 1"
   ]
  },
  {
   "cell_type": "markdown",
   "id": "2ce5b6c4-e3cc-4e8d-b69e-64ab306de80e",
   "metadata": {},
   "source": [
    "**Move chests and shoulders to hips folder**"
   ]
  },
  {
   "cell_type": "code",
   "execution_count": 25,
   "id": "8bc5c8c3-19a2-48e9-ba3a-325770590c2c",
   "metadata": {
    "execution": {
     "iopub.execute_input": "2022-05-19T09:18:16.055188Z",
     "iopub.status.busy": "2022-05-19T09:18:16.054613Z",
     "iopub.status.idle": "2022-05-19T09:18:16.501023Z",
     "shell.execute_reply": "2022-05-19T09:18:16.499627Z",
     "shell.execute_reply.started": "2022-05-19T09:18:16.055135Z"
    },
    "tags": []
   },
   "outputs": [],
   "source": [
    "for file in sorted(os.listdir(\"data/chests\")):\n",
    "    filepath = os.path.join(\"data\", \"chests\", file)\n",
    "    copypath = os.path.join(\"data\", \"images\", file)\n",
    "    shutil.copyfile(filepath, copypath)\n",
    "    \n",
    "for file in sorted(os.listdir(\"data/shoulders\")):\n",
    "    filepath = os.path.join(\"data\", \"shoulders\", file)\n",
    "    copypath = os.path.join(\"data\", \"images\", file)\n",
    "    shutil.copyfile(filepath, copypath)"
   ]
  },
  {
   "cell_type": "markdown",
   "id": "d666029a-9b22-40c1-bec4-68badb81c2f6",
   "metadata": {
    "execution": {
     "iopub.execute_input": "2022-05-18T13:04:55.605505Z",
     "iopub.status.busy": "2022-05-18T13:04:55.604958Z",
     "iopub.status.idle": "2022-05-18T13:04:55.616350Z",
     "shell.execute_reply": "2022-05-18T13:04:55.614466Z",
     "shell.execute_reply.started": "2022-05-18T13:04:55.605455Z"
    }
   },
   "source": [
    "**Counting**"
   ]
  },
  {
   "cell_type": "code",
   "execution_count": 31,
   "id": "3549c570-9a54-40db-b0c4-e9f1b7d210ad",
   "metadata": {
    "execution": {
     "iopub.execute_input": "2022-05-19T09:20:14.583952Z",
     "iopub.status.busy": "2022-05-19T09:20:14.583341Z",
     "iopub.status.idle": "2022-05-19T09:20:14.597888Z",
     "shell.execute_reply": "2022-05-19T09:20:14.597390Z",
     "shell.execute_reply.started": "2022-05-19T09:20:14.583896Z"
    },
    "tags": []
   },
   "outputs": [],
   "source": [
    "labels = []\n",
    "for file in sorted(os.listdir(\"data/labels\")):\n",
    "    if os.path.splitext(file)[1] != \"\":\n",
    "        labels.append(file)\n",
    "    \n",
    "images = []\n",
    "for file in sorted(os.listdir(\"data/images\")):\n",
    "    if os.path.splitext(file)[1] != \"\":\n",
    "        images.append(file)"
   ]
  },
  {
   "cell_type": "code",
   "execution_count": 32,
   "id": "83dbe885-78a0-4d89-8bfb-46219d054cd9",
   "metadata": {
    "execution": {
     "iopub.execute_input": "2022-05-19T09:20:15.298865Z",
     "iopub.status.busy": "2022-05-19T09:20:15.298397Z",
     "iopub.status.idle": "2022-05-19T09:20:15.306216Z",
     "shell.execute_reply": "2022-05-19T09:20:15.305188Z",
     "shell.execute_reply.started": "2022-05-19T09:20:15.298822Z"
    },
    "tags": []
   },
   "outputs": [
    {
     "name": "stdout",
     "output_type": "stream",
     "text": [
      "2282\n",
      "2083\n",
      "100\n"
     ]
    }
   ],
   "source": [
    "print(len(images))\n",
    "print(len(labels))\n",
    "print(len(chests))"
   ]
  },
  {
   "cell_type": "markdown",
   "id": "4314133f-a454-4dc9-849a-ed9217404ebe",
   "metadata": {},
   "source": [
    "### Images: Test Train Val Splits and Moving Images"
   ]
  },
  {
   "cell_type": "code",
   "execution_count": 43,
   "id": "d89e73aa-e1ce-4b83-9292-dee757fb29ee",
   "metadata": {
    "execution": {
     "iopub.execute_input": "2022-05-19T09:31:53.050563Z",
     "iopub.status.busy": "2022-05-19T09:31:53.050003Z",
     "iopub.status.idle": "2022-05-19T09:31:53.074061Z",
     "shell.execute_reply": "2022-05-19T09:31:53.072128Z",
     "shell.execute_reply.started": "2022-05-19T09:31:53.050510Z"
    },
    "tags": []
   },
   "outputs": [],
   "source": [
    "images = []\n",
    "category = []\n",
    "for file in sorted(os.listdir(\"data/images\")):\n",
    "    if os.path.splitext(file)[1] != \"\":\n",
    "        if \"chest\" not in str(file) and \"shoulder\" not in str(file):\n",
    "            file_copy = file\n",
    "            file_copy = file_copy.replace(\".\", \"_\").replace(\" \", \"_\")\n",
    "            participant, date, imtype = file_copy.split(\"_\")[:3]\n",
    "            images.append(file) \n",
    "            category.append(imtype)\n",
    "        elif \"chest\" in str(file) or \"shoulder\" in str(file):\n",
    "            file_copy = file\n",
    "            file_copy = file_copy.replace(\".\", \"_\")\n",
    "            imid, imtype, ext = file_copy.split(\"_\")\n",
    "            images.append(file) \n",
    "            category.append(imtype)   "
   ]
  },
  {
   "cell_type": "code",
   "execution_count": 44,
   "id": "afb25f32-bd01-49d6-96a5-cc3d96ebb25e",
   "metadata": {
    "execution": {
     "iopub.execute_input": "2022-05-19T09:31:55.101495Z",
     "iopub.status.busy": "2022-05-19T09:31:55.100961Z",
     "iopub.status.idle": "2022-05-19T09:31:55.111285Z",
     "shell.execute_reply": "2022-05-19T09:31:55.110074Z",
     "shell.execute_reply.started": "2022-05-19T09:31:55.101446Z"
    },
    "tags": []
   },
   "outputs": [
    {
     "data": {
      "text/plain": [
       "{'01', '02', '03', '04', 'chest', 'shoulder'}"
      ]
     },
     "execution_count": 44,
     "metadata": {},
     "output_type": "execute_result"
    }
   ],
   "source": [
    "set(category)"
   ]
  },
  {
   "cell_type": "code",
   "execution_count": 46,
   "id": "e9e7ca9c-4612-4664-999f-c25cf2f71c7e",
   "metadata": {
    "execution": {
     "iopub.execute_input": "2022-05-19T09:32:03.038660Z",
     "iopub.status.busy": "2022-05-19T09:32:03.038093Z",
     "iopub.status.idle": "2022-05-19T09:32:03.046934Z",
     "shell.execute_reply": "2022-05-19T09:32:03.045451Z",
     "shell.execute_reply.started": "2022-05-19T09:32:03.038608Z"
    },
    "tags": []
   },
   "outputs": [
    {
     "name": "stdout",
     "output_type": "stream",
     "text": [
      "2282\n",
      "2282\n"
     ]
    }
   ],
   "source": [
    "print(len(images))\n",
    "print(len(category))"
   ]
  },
  {
   "cell_type": "code",
   "execution_count": 55,
   "id": "e2481e4c-80fd-4d49-a8c2-edbf2cef5734",
   "metadata": {
    "execution": {
     "iopub.execute_input": "2022-05-19T09:34:17.151922Z",
     "iopub.status.busy": "2022-05-19T09:34:17.151394Z",
     "iopub.status.idle": "2022-05-19T09:34:17.167284Z",
     "shell.execute_reply": "2022-05-19T09:34:17.166582Z",
     "shell.execute_reply.started": "2022-05-19T09:34:17.151872Z"
    },
    "tags": []
   },
   "outputs": [],
   "source": [
    "train, test_val, train_category, test_val_category  = train_test_split(images, category, shuffle=True, train_size=1598, stratify=category, random_state=3)\n",
    "test, val = train_test_split(test_val, shuffle=True, test_size=342, stratify=test_val_category, random_state=3)"
   ]
  },
  {
   "cell_type": "code",
   "execution_count": 56,
   "id": "bf787323-41f9-4f22-aec9-3d0a973575f5",
   "metadata": {
    "execution": {
     "iopub.execute_input": "2022-05-19T09:34:17.643862Z",
     "iopub.status.busy": "2022-05-19T09:34:17.643100Z",
     "iopub.status.idle": "2022-05-19T09:34:17.651497Z",
     "shell.execute_reply": "2022-05-19T09:34:17.650477Z",
     "shell.execute_reply.started": "2022-05-19T09:34:17.643810Z"
    },
    "tags": []
   },
   "outputs": [
    {
     "name": "stdout",
     "output_type": "stream",
     "text": [
      "1598 342 342\n"
     ]
    }
   ],
   "source": [
    "print(len(train), len(val), len(test))"
   ]
  },
  {
   "cell_type": "markdown",
   "id": "ab619444-e989-4b06-9272-cc7b5a612821",
   "metadata": {},
   "source": [
    "**Copying image files into train, test, val**"
   ]
  },
  {
   "cell_type": "code",
   "execution_count": 61,
   "id": "bd9ee231-474e-4872-b5ab-d40f518486ed",
   "metadata": {
    "execution": {
     "iopub.execute_input": "2022-05-19T09:43:53.182664Z",
     "iopub.status.busy": "2022-05-19T09:43:53.182026Z",
     "iopub.status.idle": "2022-05-19T09:44:17.270231Z",
     "shell.execute_reply": "2022-05-19T09:44:17.267132Z",
     "shell.execute_reply.started": "2022-05-19T09:43:53.182617Z"
    },
    "tags": []
   },
   "outputs": [],
   "source": [
    "for file in train:\n",
    "    filepath = os.path.join(\"data\", \"images\", file)\n",
    "    copypath = os.path.join(\"data\", \"images\", \"train\", file)\n",
    "    shutil.copyfile(filepath, copypath)\n",
    "    \n",
    "for file in val:\n",
    "    filepath = os.path.join(\"data\", \"images\", file)\n",
    "    copypath = os.path.join(\"data\", \"images\", \"val\", file)\n",
    "    shutil.copyfile(filepath, copypath)\n",
    "    \n",
    "for file in test:\n",
    "    filepath = os.path.join(\"data\", \"images\", file)\n",
    "    copypath = os.path.join(\"data\", \"images\", \"test\", file)\n",
    "    shutil.copyfile(filepath, copypath)"
   ]
  },
  {
   "cell_type": "markdown",
   "id": "19d62f6e-8f11-47cc-8198-2f7bb35b58e0",
   "metadata": {},
   "source": [
    "### Labels: Test Train Val Splits and Moving Images"
   ]
  },
  {
   "cell_type": "code",
   "execution_count": 70,
   "id": "3d70817b-722e-4512-a8dd-4b3f898a6f53",
   "metadata": {
    "execution": {
     "iopub.execute_input": "2022-05-19T09:51:19.837057Z",
     "iopub.status.busy": "2022-05-19T09:51:19.836537Z",
     "iopub.status.idle": "2022-05-19T09:51:19.853908Z",
     "shell.execute_reply": "2022-05-19T09:51:19.853261Z",
     "shell.execute_reply.started": "2022-05-19T09:51:19.837007Z"
    },
    "tags": []
   },
   "outputs": [],
   "source": [
    "train_labels = []\n",
    "for file in train: \n",
    "    if \"chest\" not in file and \"shoulder\" not in file:\n",
    "        file_copy = file\n",
    "        name, ext = os.path.splitext(file_copy)\n",
    "        label_file = name + \".txt\"\n",
    "        train_labels.append(label_file)\n",
    "\n",
    "val_labels = []\n",
    "for file in val: \n",
    "    if \"chest\" not in file and \"shoulder\" not in file:\n",
    "        file_copy = file\n",
    "        name, ext = os.path.splitext(file_copy)\n",
    "        label_file = name + \".txt\"\n",
    "        val_labels.append(label_file)\n",
    "    \n",
    "test_labels = []\n",
    "for file in test:\n",
    "    if \"chest\" not in file and \"shoulder\" not in file:\n",
    "        file_copy = file\n",
    "        name, ext = os.path.splitext(file_copy)\n",
    "        label_file = name + \".txt\"\n",
    "        test_labels.append(label_file)"
   ]
  },
  {
   "cell_type": "code",
   "execution_count": 72,
   "id": "d1110ada-ba67-451e-95e8-6fb0d4de40f4",
   "metadata": {
    "execution": {
     "iopub.execute_input": "2022-05-19T09:51:52.144007Z",
     "iopub.status.busy": "2022-05-19T09:51:52.143501Z",
     "iopub.status.idle": "2022-05-19T09:51:52.151545Z",
     "shell.execute_reply": "2022-05-19T09:51:52.150333Z",
     "shell.execute_reply.started": "2022-05-19T09:51:52.143958Z"
    },
    "tags": []
   },
   "outputs": [
    {
     "name": "stdout",
     "output_type": "stream",
     "text": [
      "1458 312 312\n"
     ]
    }
   ],
   "source": [
    "print(len(train_labels), len(test_labels), len(val_labels))"
   ]
  },
  {
   "cell_type": "code",
   "execution_count": 73,
   "id": "9e7f3c8c-75c3-4d92-9ca8-9a9a05153083",
   "metadata": {
    "execution": {
     "iopub.execute_input": "2022-05-19T09:52:54.911863Z",
     "iopub.status.busy": "2022-05-19T09:52:54.911352Z",
     "iopub.status.idle": "2022-05-19T09:54:53.586108Z",
     "shell.execute_reply": "2022-05-19T09:54:53.584647Z",
     "shell.execute_reply.started": "2022-05-19T09:52:54.911812Z"
    }
   },
   "outputs": [],
   "source": [
    "for file in train_labels:\n",
    "    filepath = os.path.join(\"data\", \"labels\", file)\n",
    "    copypath = os.path.join(\"data\", \"labels\", \"train\", file)\n",
    "    shutil.copyfile(filepath, copypath)\n",
    "    \n",
    "for file in val_labels:\n",
    "    filepath = os.path.join(\"data\", \"labels\", file)\n",
    "    copypath = os.path.join(\"data\", \"labels\", \"val\", file)\n",
    "    shutil.copyfile(filepath, copypath)\n",
    "    \n",
    "for file in test_labels:\n",
    "    filepath = os.path.join(\"data\", \"labels\", file)\n",
    "    copypath = os.path.join(\"data\", \"labels\", \"test\", file)\n",
    "    shutil.copyfile(filepath, copypath)"
   ]
  },
  {
   "cell_type": "code",
   "execution_count": 91,
   "id": "f4816a8d-059a-4dba-9af1-013f7bfc9559",
   "metadata": {
    "execution": {
     "iopub.execute_input": "2022-05-19T10:02:43.195214Z",
     "iopub.status.busy": "2022-05-19T10:02:43.194694Z",
     "iopub.status.idle": "2022-05-19T10:02:43.252350Z",
     "shell.execute_reply": "2022-05-19T10:02:43.251755Z",
     "shell.execute_reply.started": "2022-05-19T10:02:43.195169Z"
    },
    "tags": []
   },
   "outputs": [
    {
     "data": {
      "text/plain": [
       "(1734, 2162, 3)"
      ]
     },
     "execution_count": 91,
     "metadata": {},
     "output_type": "execute_result"
    }
   ],
   "source": [
    "test = cv2.imread(\"data/images/10_shoulder.png\")\n",
    "test.shape"
   ]
  },
  {
   "cell_type": "markdown",
   "id": "c8ece4da-9af6-48c4-97c0-944006c57891",
   "metadata": {},
   "source": [
    "### Counting for Paper"
   ]
  },
  {
   "cell_type": "code",
   "execution_count": 13,
   "id": "d26c50d7-fde4-4e77-874a-da9f0c856319",
   "metadata": {
    "execution": {
     "iopub.execute_input": "2022-05-29T18:47:37.008441Z",
     "iopub.status.busy": "2022-05-29T18:47:37.007849Z",
     "iopub.status.idle": "2022-05-29T18:47:37.042475Z",
     "shell.execute_reply": "2022-05-29T18:47:37.041987Z",
     "shell.execute_reply.started": "2022-05-29T18:47:37.008391Z"
    },
    "tags": []
   },
   "outputs": [
    {
     "name": "stdout",
     "output_type": "stream",
     "text": [
      "2256 2107\n"
     ]
    }
   ],
   "source": [
    "from glob import glob\n",
    "images_renamed = glob(\"data/images_renamed/*.png\") + glob(\"data/images_renamed/*.tiff\") + glob(\"data/images_renamed/*.jpg\") + glob(\"data/images_renamed/*.jpeg\")\n",
    "images = glob(\"data/images/*.png\") + glob(\"data/images/*.tiff\") + glob(\"data/images/*.jpg\") + glob(\"data/images/*.jpeg\")\n",
    "print(len(images), len(images_renamed))"
   ]
  },
  {
   "cell_type": "code",
   "execution_count": 7,
   "id": "4980881d-1c11-411c-ba7b-a713fb76a106",
   "metadata": {
    "execution": {
     "iopub.execute_input": "2022-05-29T18:45:31.733442Z",
     "iopub.status.busy": "2022-05-29T18:45:31.732840Z",
     "iopub.status.idle": "2022-05-29T18:45:31.745163Z",
     "shell.execute_reply": "2022-05-29T18:45:31.744219Z",
     "shell.execute_reply.started": "2022-05-29T18:45:31.733390Z"
    },
    "tags": []
   },
   "outputs": [],
   "source": [
    "im01 = list(filter(lambda name: \"_01.\" in name, images))\n",
    "im02 = list(filter(lambda name: \"_02_\" in name or \"_02.\" in name, images))\n",
    "im03 = list(filter(lambda name: \"_03.\" in name, images))\n",
    "im04 =list(filter(lambda name: \"_04_\" in name or \"_04.\" in name or \"_04 (1)\" in name, images))"
   ]
  },
  {
   "cell_type": "code",
   "execution_count": 8,
   "id": "b04a5a08-cdf5-45a8-b556-bc9134957bad",
   "metadata": {
    "execution": {
     "iopub.execute_input": "2022-05-29T18:45:32.402386Z",
     "iopub.status.busy": "2022-05-29T18:45:32.401808Z",
     "iopub.status.idle": "2022-05-29T18:45:32.410608Z",
     "shell.execute_reply": "2022-05-29T18:45:32.409411Z",
     "shell.execute_reply.started": "2022-05-29T18:45:32.402338Z"
    },
    "tags": []
   },
   "outputs": [
    {
     "name": "stdout",
     "output_type": "stream",
     "text": [
      "588 539 419 510\n"
     ]
    }
   ],
   "source": [
    "print(len(im01), len(im02), len(im03), len(im04))"
   ]
  },
  {
   "cell_type": "code",
   "execution_count": 9,
   "id": "4de1f716-e076-41ec-aa22-9de5b493e182",
   "metadata": {
    "execution": {
     "iopub.execute_input": "2022-05-29T18:45:34.450932Z",
     "iopub.status.busy": "2022-05-29T18:45:34.450315Z",
     "iopub.status.idle": "2022-05-29T18:45:34.458961Z",
     "shell.execute_reply": "2022-05-29T18:45:34.458053Z",
     "shell.execute_reply.started": "2022-05-29T18:45:34.450884Z"
    },
    "tags": []
   },
   "outputs": [
    {
     "data": {
      "text/plain": [
       "2056"
      ]
     },
     "execution_count": 9,
     "metadata": {},
     "output_type": "execute_result"
    }
   ],
   "source": [
    "im = im01+im02+im03+im04\n",
    "len(im)"
   ]
  },
  {
   "cell_type": "code",
   "execution_count": 10,
   "id": "91be73e7-7ca2-4d34-b423-8375579e33e0",
   "metadata": {
    "execution": {
     "iopub.execute_input": "2022-05-29T18:45:38.297147Z",
     "iopub.status.busy": "2022-05-29T18:45:38.296624Z",
     "iopub.status.idle": "2022-05-29T18:45:38.306209Z",
     "shell.execute_reply": "2022-05-29T18:45:38.304873Z",
     "shell.execute_reply.started": "2022-05-29T18:45:38.297099Z"
    },
    "tags": []
   },
   "outputs": [
    {
     "data": {
      "text/plain": [
       "1007"
      ]
     },
     "execution_count": 10,
     "metadata": {},
     "output_type": "execute_result"
    }
   ],
   "source": [
    "len(im01+im03)"
   ]
  },
  {
   "cell_type": "code",
   "execution_count": 11,
   "id": "538fe1bd-408a-48d0-912b-1573e92a0359",
   "metadata": {
    "execution": {
     "iopub.execute_input": "2022-05-29T18:45:38.632258Z",
     "iopub.status.busy": "2022-05-29T18:45:38.631818Z",
     "iopub.status.idle": "2022-05-29T18:45:38.640754Z",
     "shell.execute_reply": "2022-05-29T18:45:38.639602Z",
     "shell.execute_reply.started": "2022-05-29T18:45:38.632212Z"
    },
    "tags": []
   },
   "outputs": [
    {
     "data": {
      "text/plain": [
       "1049"
      ]
     },
     "execution_count": 11,
     "metadata": {},
     "output_type": "execute_result"
    }
   ],
   "source": [
    "len(im02+im04)"
   ]
  },
  {
   "cell_type": "markdown",
   "id": "b0b27ab3-27b6-48c7-b702-f5d2613b1183",
   "metadata": {
    "execution": {
     "iopub.execute_input": "2022-05-20T10:57:01.366955Z",
     "iopub.status.busy": "2022-05-20T10:57:01.366646Z",
     "iopub.status.idle": "2022-05-20T10:57:01.380996Z",
     "shell.execute_reply": "2022-05-20T10:57:01.380369Z",
     "shell.execute_reply.started": "2022-05-20T10:57:01.366933Z"
    }
   },
   "source": [
    "### Counting Labels"
   ]
  },
  {
   "cell_type": "code",
   "execution_count": 14,
   "id": "fe3d738c-8b05-46a5-893d-64ccaec1bfb2",
   "metadata": {
    "execution": {
     "iopub.execute_input": "2022-05-29T18:54:36.835683Z",
     "iopub.status.busy": "2022-05-29T18:54:36.835171Z",
     "iopub.status.idle": "2022-05-29T18:54:36.841750Z",
     "shell.execute_reply": "2022-05-29T18:54:36.840553Z",
     "shell.execute_reply.started": "2022-05-29T18:54:36.835635Z"
    },
    "tags": []
   },
   "outputs": [],
   "source": [
    "import itertools"
   ]
  },
  {
   "cell_type": "code",
   "execution_count": 15,
   "id": "653b1104-1fb6-4de1-b18f-3622496b2fe3",
   "metadata": {
    "execution": {
     "iopub.execute_input": "2022-05-29T18:54:37.383486Z",
     "iopub.status.busy": "2022-05-29T18:54:37.382989Z",
     "iopub.status.idle": "2022-05-29T18:57:26.107974Z",
     "shell.execute_reply": "2022-05-29T18:57:26.106746Z",
     "shell.execute_reply.started": "2022-05-29T18:54:37.383436Z"
    },
    "tags": []
   },
   "outputs": [],
   "source": [
    "all_tags=[]\n",
    "for file in os.listdir(\"data/labels/\"):\n",
    "    if file.endswith(\".txt\"):\n",
    "        with open(f\"data/labels/{file}\") as f:\n",
    "            f_lines = f.readlines()\n",
    "            all_tags.append(f_lines)"
   ]
  },
  {
   "cell_type": "code",
   "execution_count": 16,
   "id": "5c9c6e06-3d33-42c2-a64a-e93a3748dd51",
   "metadata": {
    "execution": {
     "iopub.execute_input": "2022-05-29T18:57:40.571797Z",
     "iopub.status.busy": "2022-05-29T18:57:40.571145Z",
     "iopub.status.idle": "2022-05-29T18:57:40.578198Z",
     "shell.execute_reply": "2022-05-29T18:57:40.577139Z",
     "shell.execute_reply.started": "2022-05-29T18:57:40.571745Z"
    },
    "tags": []
   },
   "outputs": [],
   "source": [
    "tags_list = list(itertools.chain.from_iterable(all_tags))"
   ]
  },
  {
   "cell_type": "code",
   "execution_count": 17,
   "id": "3ca14291-8ade-49ce-b1f8-b67a32040255",
   "metadata": {
    "execution": {
     "iopub.execute_input": "2022-05-29T18:57:41.418885Z",
     "iopub.status.busy": "2022-05-29T18:57:41.418362Z",
     "iopub.status.idle": "2022-05-29T18:57:41.425122Z",
     "shell.execute_reply": "2022-05-29T18:57:41.424155Z",
     "shell.execute_reply.started": "2022-05-29T18:57:41.418835Z"
    },
    "tags": []
   },
   "outputs": [],
   "source": [
    "only_tags = [tag[0] for tag in tags_list]"
   ]
  },
  {
   "cell_type": "code",
   "execution_count": 18,
   "id": "910d3f58-c9b8-43a6-8db0-fccc97fbe643",
   "metadata": {
    "execution": {
     "iopub.execute_input": "2022-05-29T18:57:42.045471Z",
     "iopub.status.busy": "2022-05-29T18:57:42.044858Z",
     "iopub.status.idle": "2022-05-29T18:57:42.053554Z",
     "shell.execute_reply": "2022-05-29T18:57:42.052607Z",
     "shell.execute_reply.started": "2022-05-29T18:57:42.045421Z"
    },
    "tags": []
   },
   "outputs": [
    {
     "data": {
      "text/plain": [
       "3055"
      ]
     },
     "execution_count": 18,
     "metadata": {},
     "output_type": "execute_result"
    }
   ],
   "source": [
    "only_tags.count(\"0\")"
   ]
  },
  {
   "cell_type": "code",
   "execution_count": 19,
   "id": "e4956633-82b8-4e61-a3f6-5840b36221b5",
   "metadata": {
    "execution": {
     "iopub.execute_input": "2022-05-29T18:57:43.639389Z",
     "iopub.status.busy": "2022-05-29T18:57:43.638773Z",
     "iopub.status.idle": "2022-05-29T18:57:43.647670Z",
     "shell.execute_reply": "2022-05-29T18:57:43.646705Z",
     "shell.execute_reply.started": "2022-05-29T18:57:43.639340Z"
    },
    "tags": []
   },
   "outputs": [
    {
     "data": {
      "text/plain": [
       "0"
      ]
     },
     "execution_count": 19,
     "metadata": {},
     "output_type": "execute_result"
    }
   ],
   "source": [
    "only_tags.count(\"1\")"
   ]
  },
  {
   "cell_type": "markdown",
   "id": "7f44b06c-de73-489f-ba19-3c77be3f3fcc",
   "metadata": {},
   "source": [
    "### Make 1 Class Labels"
   ]
  },
  {
   "cell_type": "code",
   "execution_count": 15,
   "id": "de811825-f88f-40ce-b724-9189fa0b9dfa",
   "metadata": {
    "execution": {
     "iopub.execute_input": "2022-05-24T07:52:41.098386Z",
     "iopub.status.busy": "2022-05-24T07:52:41.097874Z",
     "iopub.status.idle": "2022-05-24T07:52:42.407817Z",
     "shell.execute_reply": "2022-05-24T07:52:42.407025Z",
     "shell.execute_reply.started": "2022-05-24T07:52:41.098337Z"
    },
    "tags": []
   },
   "outputs": [],
   "source": [
    "for file in os.listdir(\"data/labels/\"):\n",
    "    filepath = os.path.join(\"data\", \"labels\", file)\n",
    "    if filepath.endswith(\".txt\"):\n",
    "        copypath = os.path.join(\"data\", \"labels_1class\", file)\n",
    "        shutil.copyfile(filepath, copypath)"
   ]
  },
  {
   "cell_type": "code",
   "execution_count": 16,
   "id": "296b7132-8365-493c-a352-bd6a6468e526",
   "metadata": {
    "execution": {
     "iopub.execute_input": "2022-05-24T07:52:45.210344Z",
     "iopub.status.busy": "2022-05-24T07:52:45.209837Z",
     "iopub.status.idle": "2022-05-24T07:52:52.880970Z",
     "shell.execute_reply": "2022-05-24T07:52:52.879431Z",
     "shell.execute_reply.started": "2022-05-24T07:52:45.210296Z"
    },
    "tags": []
   },
   "outputs": [],
   "source": [
    "for file in os.listdir(\"data/labels_1class/\"):\n",
    "    filepath = os.path.join(\"data\", \"labels_1class\", file)\n",
    "    if filepath.endswith(\".txt\"):\n",
    "        with open(filepath) as f:\n",
    "            lines = f.readlines()\n",
    "            filtered_lines = [line for line in lines if line[0] == \"0\"]\n",
    "            \n",
    "        with open(filepath, 'w') as f:\n",
    "            f.writelines(filtered_lines)"
   ]
  },
  {
   "cell_type": "code",
   "execution_count": 17,
   "id": "d67e6340-60b8-4ceb-a948-6735a9302bf3",
   "metadata": {
    "execution": {
     "iopub.execute_input": "2022-05-24T07:52:54.020270Z",
     "iopub.status.busy": "2022-05-24T07:52:54.019454Z",
     "iopub.status.idle": "2022-05-24T07:52:54.130333Z",
     "shell.execute_reply": "2022-05-24T07:52:54.129708Z",
     "shell.execute_reply.started": "2022-05-24T07:52:54.020205Z"
    },
    "tags": []
   },
   "outputs": [],
   "source": [
    "all_tags=[]\n",
    "for file in os.listdir(\"data/labels_1class/\"):\n",
    "    if file.endswith(\".txt\"):\n",
    "        with open(f\"data/labels_1class/{file}\") as f:\n",
    "            f_lines = f.readlines()\n",
    "            all_tags.append(f_lines)\n",
    "            \n",
    "tags_list = list(itertools.chain.from_iterable(all_tags))\n",
    "only_tags = [tag[0] for tag in tags_list]"
   ]
  },
  {
   "cell_type": "code",
   "execution_count": 19,
   "id": "63932ac5-06ea-45cf-ae09-29077b78f19b",
   "metadata": {
    "execution": {
     "iopub.execute_input": "2022-05-24T07:52:57.836976Z",
     "iopub.status.busy": "2022-05-24T07:52:57.836305Z",
     "iopub.status.idle": "2022-05-24T07:52:57.844354Z",
     "shell.execute_reply": "2022-05-24T07:52:57.843554Z",
     "shell.execute_reply.started": "2022-05-24T07:52:57.836922Z"
    },
    "tags": []
   },
   "outputs": [
    {
     "data": {
      "text/plain": [
       "3055"
      ]
     },
     "execution_count": 19,
     "metadata": {},
     "output_type": "execute_result"
    }
   ],
   "source": [
    "only_tags.count(\"0\")"
   ]
  },
  {
   "cell_type": "code",
   "execution_count": 22,
   "id": "661a37d1-b2f9-4501-9d14-b15c7b5483fb",
   "metadata": {
    "execution": {
     "iopub.execute_input": "2022-05-24T07:54:48.355943Z",
     "iopub.status.busy": "2022-05-24T07:54:48.355261Z",
     "iopub.status.idle": "2022-05-24T07:54:48.399612Z",
     "shell.execute_reply": "2022-05-24T07:54:48.399016Z",
     "shell.execute_reply.started": "2022-05-24T07:54:48.355889Z"
    },
    "tags": []
   },
   "outputs": [
    {
     "name": "stdout",
     "output_type": "stream",
     "text": [
      "Empty: data/labels_1class/001_13y09m03d_04_L.txt\n",
      "Empty: data/labels_1class/009_10y08m19d_04.txt\n",
      "Empty: data/labels_1class/017_08y00m26d_04.txt\n",
      "Empty: data/labels_1class/042_09y01m02d_04_R.txt\n",
      "Empty: data/labels_1class/048_08y00m07d_04_R.txt\n",
      "Empty: data/labels_1class/056_07y08m01d_04_L.txt\n",
      "Empty: data/labels_1class/101_10y07m17d_02_L.txt\n",
      "Empty: data/labels_1class/101_10y08m19d_04_L.txt\n",
      "Empty: data/labels_1class/111_14y02m19d_02_L.txt\n",
      "Empty: data/labels_1class/111_14y02m19d_04_L.txt\n",
      "Empty: data/labels_1class/116_14y01m10d_02_R.txt\n",
      "Empty: data/labels_1class/121_13y04m25d_04_L.txt\n",
      "Empty: data/labels_1class/121_13y04m25d_04_R.txt\n",
      "Empty: data/labels_1class/121_13y06m07d_04_L.txt\n",
      "Empty: data/labels_1class/121_13y09m09d_04_L.txt\n",
      "Empty: data/labels_1class/139_09y07m02d_02_R.txt\n",
      "Empty: data/labels_1class/155_14y03m09d_04_R.txt\n",
      "Empty: data/labels_1class/155_14y05m04d_04_R.txt\n",
      "Empty: data/labels_1class/162_13y00m29d_04_L.txt\n",
      "Empty: data/labels_1class/174_11y00m18d_02_L.txt\n",
      "Empty: data/labels_1class/174_11y00m18d_04_L.txt\n",
      "Empty: data/labels_1class/174_11y00m18d_04_R.txt\n",
      "Empty: data/labels_1class/174_11y06m18d_04_L.txt\n",
      "Empty: data/labels_1class/179_15y11m20d_02_R.txt\n",
      "Empty: data/labels_1class/179_16y00m02d_04_R.txt\n",
      "Empty: data/labels_1class/179_16y00m06d_04_R.txt\n"
     ]
    }
   ],
   "source": [
    "for file in sorted(os.listdir(\"data/labels_1class\")):\n",
    "    filepath = os.path.join(\"data\", \"labels_1class\", file)\n",
    "    if filepath.endswith(\".txt\"): \n",
    "        if file != \"classes.txt\":\n",
    "            if os.stat(filepath).st_size == 0:  \n",
    "                print(\"Empty:\",filepath)\n",
    "                os.remove(filepath)"
   ]
  },
  {
   "cell_type": "markdown",
   "id": "4b5af7c9-56b0-4695-81ab-a3c927644637",
   "metadata": {},
   "source": [
    "#### Remove unannotated images"
   ]
  },
  {
   "cell_type": "code",
   "execution_count": 23,
   "id": "d8ac4f40-ecb9-4129-b3e2-71721bcc1524",
   "metadata": {
    "execution": {
     "iopub.execute_input": "2022-05-24T07:57:22.987788Z",
     "iopub.status.busy": "2022-05-24T07:57:22.987265Z",
     "iopub.status.idle": "2022-05-24T08:01:13.713627Z",
     "shell.execute_reply": "2022-05-24T08:01:13.711433Z",
     "shell.execute_reply.started": "2022-05-24T07:57:22.987740Z"
    }
   },
   "outputs": [],
   "source": [
    "for file in os.listdir(\"data/images/\"):\n",
    "    filepath = os.path.join(\"data\", \"images\", file)\n",
    "    if not os.path.isdir(filepath):\n",
    "        copypath = os.path.join(\"data\", \"images_1class\", file)\n",
    "        shutil.copyfile(filepath, copypath)"
   ]
  },
  {
   "cell_type": "code",
   "execution_count": 26,
   "id": "69d47790-812e-4920-bcf5-5c5f4b3eee9c",
   "metadata": {
    "execution": {
     "iopub.execute_input": "2022-05-24T08:03:18.610933Z",
     "iopub.status.busy": "2022-05-24T08:03:18.610238Z",
     "iopub.status.idle": "2022-05-24T08:03:18.671611Z",
     "shell.execute_reply": "2022-05-24T08:03:18.670962Z",
     "shell.execute_reply.started": "2022-05-24T08:03:18.610879Z"
    },
    "tags": []
   },
   "outputs": [
    {
     "name": "stdout",
     "output_type": "stream",
     "text": [
      "Label file not found for: 001_13y09m03d_04_L.tiff\n",
      "Label file not found for: 009_10y08m19d_04.tiff\n",
      "Label file not found for: 017_08y00m26d_04.tiff\n",
      "Label file not found for: 042_09y01m02d_04_R.png\n",
      "Label file not found for: 048_08y00m07d_04_R.png\n",
      "Label file not found for: 056_07y08m01d_04_L.png\n",
      "Label file not found for: 101_10y07m17d_02_L.jpg\n",
      "Label file not found for: 101_10y08m19d_04_L.jpg\n",
      "Label file not found for: 111_14y02m19d_02_L.jpg\n",
      "Label file not found for: 111_14y02m19d_04_L.jpg\n",
      "Label file not found for: 116_14y01m10d_02_R.jpg\n",
      "Label file not found for: 121_13y04m25d_04_L.jpg\n",
      "Label file not found for: 121_13y04m25d_04_R.jpg\n",
      "Label file not found for: 121_13y06m07d_04_L.jpg\n",
      "Label file not found for: 121_13y09m09d_04_L.jpg\n",
      "Label file not found for: 139_09y07m02d_02_R.jpg\n",
      "Label file not found for: 155_14y03m09d_04_R.jpg\n",
      "Label file not found for: 155_14y05m04d_04_R.jpg\n",
      "Label file not found for: 162_13y00m29d_04_L.jpg\n",
      "Label file not found for: 174_11y00m18d_02_L.jpg\n",
      "Label file not found for: 174_11y00m18d_04_L.jpg\n",
      "Label file not found for: 174_11y00m18d_04_R.jpg\n",
      "Label file not found for: 174_11y06m18d_04_L.jpg\n",
      "Label file not found for: 179_15y11m20d_02_R.jpg\n",
      "Label file not found for: 179_16y00m02d_04_R.jpg\n",
      "Label file not found for: 179_16y00m06d_04_R.jpg\n"
     ]
    }
   ],
   "source": [
    "for file in sorted(os.listdir(\"data/images_1class\")):\n",
    "    filepath = os.path.join(\"data\", \"images_1class\", file)\n",
    "    name, ext = os.path.splitext(file)\n",
    "    if ext != \"\" and \"chest\" not in file and \"shoulder\" not in file: \n",
    "        labelfile = name + \".txt\"\n",
    "        labelpath = os.path.join(\"data\", \"labels_1class\", labelfile)\n",
    "        if not os.path.exists(labelpath):\n",
    "            print(\"Label file not found for:\", file)\n",
    "            os.remove(filepath)"
   ]
  },
  {
   "cell_type": "code",
   "execution_count": 27,
   "id": "53293177-fba3-4747-bce2-c0c4a961e77c",
   "metadata": {
    "execution": {
     "iopub.execute_input": "2022-05-24T08:03:56.412172Z",
     "iopub.status.busy": "2022-05-24T08:03:56.411660Z",
     "iopub.status.idle": "2022-05-24T08:03:56.432212Z",
     "shell.execute_reply": "2022-05-24T08:03:56.431645Z",
     "shell.execute_reply.started": "2022-05-24T08:03:56.412123Z"
    }
   },
   "outputs": [],
   "source": [
    "counter = 0\n",
    "for file in sorted(os.listdir(\"data/images_1class\")):\n",
    "    filepath = os.path.join(\"data\", \"images_1class\", file)\n",
    "    name, ext = os.path.splitext(file)\n",
    "    if ext != \"\":\n",
    "        counter += 1"
   ]
  },
  {
   "cell_type": "code",
   "execution_count": 28,
   "id": "989dafd7-d438-46c6-868c-024fe77f0a67",
   "metadata": {
    "execution": {
     "iopub.execute_input": "2022-05-24T08:03:59.442342Z",
     "iopub.status.busy": "2022-05-24T08:03:59.441680Z",
     "iopub.status.idle": "2022-05-24T08:03:59.451229Z",
     "shell.execute_reply": "2022-05-24T08:03:59.450051Z",
     "shell.execute_reply.started": "2022-05-24T08:03:59.442289Z"
    }
   },
   "outputs": [
    {
     "data": {
      "text/plain": [
       "2256"
      ]
     },
     "execution_count": 28,
     "metadata": {},
     "output_type": "execute_result"
    }
   ],
   "source": [
    "counter"
   ]
  },
  {
   "cell_type": "markdown",
   "id": "2e2119e7-e0f8-4673-ae45-ad436cff105f",
   "metadata": {},
   "source": [
    "#### Split Data"
   ]
  },
  {
   "cell_type": "code",
   "execution_count": 29,
   "id": "19e932be-4ea6-4f4f-b3d8-ab31e8c7c12c",
   "metadata": {
    "execution": {
     "iopub.execute_input": "2022-05-24T08:05:38.883970Z",
     "iopub.status.busy": "2022-05-24T08:05:38.883266Z",
     "iopub.status.idle": "2022-05-24T08:05:38.903577Z",
     "shell.execute_reply": "2022-05-24T08:05:38.902835Z",
     "shell.execute_reply.started": "2022-05-24T08:05:38.883915Z"
    }
   },
   "outputs": [],
   "source": [
    "images = []\n",
    "category = []\n",
    "for file in sorted(os.listdir(\"data/images_1class\")):\n",
    "    if os.path.splitext(file)[1] != \"\":\n",
    "        if \"chest\" not in str(file) and \"shoulder\" not in str(file):\n",
    "            file_copy = file\n",
    "            file_copy = file_copy.replace(\".\", \"_\").replace(\" \", \"_\")\n",
    "            participant, date, imtype = file_copy.split(\"_\")[:3]\n",
    "            images.append(file) \n",
    "            category.append(imtype)\n",
    "        elif \"chest\" in str(file) or \"shoulder\" in str(file):\n",
    "            file_copy = file\n",
    "            file_copy = file_copy.replace(\".\", \"_\")\n",
    "            imid, imtype, ext = file_copy.split(\"_\")\n",
    "            images.append(file) \n",
    "            category.append(imtype)   "
   ]
  },
  {
   "cell_type": "code",
   "execution_count": 30,
   "id": "70b53a29-5646-4d94-b456-89b52ee1b629",
   "metadata": {
    "execution": {
     "iopub.execute_input": "2022-05-24T08:05:39.868852Z",
     "iopub.status.busy": "2022-05-24T08:05:39.868326Z",
     "iopub.status.idle": "2022-05-24T08:05:39.877696Z",
     "shell.execute_reply": "2022-05-24T08:05:39.876425Z",
     "shell.execute_reply.started": "2022-05-24T08:05:39.868801Z"
    }
   },
   "outputs": [
    {
     "name": "stdout",
     "output_type": "stream",
     "text": [
      "{'03', '04', '01', 'shoulder', 'chest', '02'}\n",
      "2256\n",
      "2256\n"
     ]
    }
   ],
   "source": [
    "print(set(category))\n",
    "print(len(images))\n",
    "print(len(category))"
   ]
  },
  {
   "cell_type": "code",
   "execution_count": 34,
   "id": "05a6f102-f939-4be4-97c6-b4310b3d782e",
   "metadata": {
    "execution": {
     "iopub.execute_input": "2022-05-24T08:07:20.270563Z",
     "iopub.status.busy": "2022-05-24T08:07:20.270037Z",
     "iopub.status.idle": "2022-05-24T08:07:20.285431Z",
     "shell.execute_reply": "2022-05-24T08:07:20.284689Z",
     "shell.execute_reply.started": "2022-05-24T08:07:20.270512Z"
    },
    "tags": []
   },
   "outputs": [],
   "source": [
    "train, test_val, train_category, test_val_category  = train_test_split(images, category, shuffle=True, train_size=1580, stratify=category, random_state=3)\n",
    "test, val = train_test_split(test_val, shuffle=True, test_size=338, stratify=test_val_category, random_state=3)"
   ]
  },
  {
   "cell_type": "code",
   "execution_count": 35,
   "id": "1c32ee5a-118f-46f6-a027-84f527fb1c2f",
   "metadata": {
    "execution": {
     "iopub.execute_input": "2022-05-24T08:07:20.721696Z",
     "iopub.status.busy": "2022-05-24T08:07:20.721180Z",
     "iopub.status.idle": "2022-05-24T08:07:20.729251Z",
     "shell.execute_reply": "2022-05-24T08:07:20.727880Z",
     "shell.execute_reply.started": "2022-05-24T08:07:20.721644Z"
    },
    "tags": []
   },
   "outputs": [
    {
     "name": "stdout",
     "output_type": "stream",
     "text": [
      "1580 338 338\n"
     ]
    }
   ],
   "source": [
    "print(len(train), len(test), len(val))"
   ]
  },
  {
   "cell_type": "code",
   "execution_count": 36,
   "id": "c1fc7042-a59e-421a-9071-dc7fb88c6d26",
   "metadata": {
    "execution": {
     "iopub.execute_input": "2022-05-24T08:08:22.576462Z",
     "iopub.status.busy": "2022-05-24T08:08:22.575976Z",
     "iopub.status.idle": "2022-05-24T08:12:00.256448Z",
     "shell.execute_reply": "2022-05-24T08:12:00.254359Z",
     "shell.execute_reply.started": "2022-05-24T08:08:22.576413Z"
    }
   },
   "outputs": [],
   "source": [
    "for file in train:\n",
    "    filepath = os.path.join(\"data\", \"images_1class\", file)\n",
    "    copypath = os.path.join(\"data\", \"images_1class\", \"train\", file)\n",
    "    shutil.copyfile(filepath, copypath)\n",
    "    \n",
    "for file in val:\n",
    "    filepath = os.path.join(\"data\", \"images_1class\", file)\n",
    "    copypath = os.path.join(\"data\", \"images_1class\", \"val\", file)\n",
    "    shutil.copyfile(filepath, copypath)\n",
    "    \n",
    "for file in test:\n",
    "    filepath = os.path.join(\"data\", \"images_1class\", file)\n",
    "    copypath = os.path.join(\"data\", \"images_1class\", \"test\", file)\n",
    "    shutil.copyfile(filepath, copypath)"
   ]
  },
  {
   "cell_type": "markdown",
   "id": "6b679e35-0786-4788-99fe-8a2a2a86e497",
   "metadata": {},
   "source": [
    "#### Split labels "
   ]
  },
  {
   "cell_type": "code",
   "execution_count": 37,
   "id": "61792eb7-d634-4d5c-902e-b419659f2c9f",
   "metadata": {
    "execution": {
     "iopub.execute_input": "2022-05-24T08:12:25.211585Z",
     "iopub.status.busy": "2022-05-24T08:12:25.211058Z",
     "iopub.status.idle": "2022-05-24T08:12:25.227972Z",
     "shell.execute_reply": "2022-05-24T08:12:25.227222Z",
     "shell.execute_reply.started": "2022-05-24T08:12:25.211534Z"
    }
   },
   "outputs": [],
   "source": [
    "train_labels = []\n",
    "for file in train: \n",
    "    if \"chest\" not in file and \"shoulder\" not in file:\n",
    "        file_copy = file\n",
    "        name, ext = os.path.splitext(file_copy)\n",
    "        label_file = name + \".txt\"\n",
    "        train_labels.append(label_file)\n",
    "\n",
    "val_labels = []\n",
    "for file in val: \n",
    "    if \"chest\" not in file and \"shoulder\" not in file:\n",
    "        file_copy = file\n",
    "        name, ext = os.path.splitext(file_copy)\n",
    "        label_file = name + \".txt\"\n",
    "        val_labels.append(label_file)\n",
    "    \n",
    "test_labels = []\n",
    "for file in test:\n",
    "    if \"chest\" not in file and \"shoulder\" not in file:\n",
    "        file_copy = file\n",
    "        name, ext = os.path.splitext(file_copy)\n",
    "        label_file = name + \".txt\"\n",
    "        test_labels.append(label_file)"
   ]
  },
  {
   "cell_type": "code",
   "execution_count": 38,
   "id": "8a3d4e2b-fae4-4c48-a38a-c0d6b17aeaef",
   "metadata": {
    "execution": {
     "iopub.execute_input": "2022-05-24T08:12:27.340904Z",
     "iopub.status.busy": "2022-05-24T08:12:27.340366Z",
     "iopub.status.idle": "2022-05-24T08:12:27.348871Z",
     "shell.execute_reply": "2022-05-24T08:12:27.347724Z",
     "shell.execute_reply.started": "2022-05-24T08:12:27.340853Z"
    }
   },
   "outputs": [
    {
     "name": "stdout",
     "output_type": "stream",
     "text": [
      "1440 308 308\n"
     ]
    }
   ],
   "source": [
    "print(len(train_labels), len(test_labels), len(val_labels))"
   ]
  },
  {
   "cell_type": "code",
   "execution_count": 39,
   "id": "55bd3acb-eae1-4ba2-9c1c-51f1d38b528c",
   "metadata": {
    "execution": {
     "iopub.execute_input": "2022-05-24T08:13:19.012226Z",
     "iopub.status.busy": "2022-05-24T08:13:19.011725Z",
     "iopub.status.idle": "2022-05-24T08:15:41.121990Z",
     "shell.execute_reply": "2022-05-24T08:15:41.119848Z",
     "shell.execute_reply.started": "2022-05-24T08:13:19.012178Z"
    }
   },
   "outputs": [],
   "source": [
    "for file in train_labels:\n",
    "    filepath = os.path.join(\"data\", \"labels_1class\", file)\n",
    "    copypath = os.path.join(\"data\", \"labels_1class\", \"train\", file)\n",
    "    shutil.copyfile(filepath, copypath)\n",
    "    \n",
    "for file in val_labels:\n",
    "    filepath = os.path.join(\"data\", \"labels_1class\", file)\n",
    "    copypath = os.path.join(\"data\", \"labels_1class\", \"val\", file)\n",
    "    shutil.copyfile(filepath, copypath)\n",
    "    \n",
    "for file in test_labels:\n",
    "    filepath = os.path.join(\"data\", \"labels_1class\", file)\n",
    "    copypath = os.path.join(\"data\", \"labels_1class\", \"test\", file)\n",
    "    shutil.copyfile(filepath, copypath)"
   ]
  }
 ],
 "metadata": {
  "kernelspec": {
   "display_name": "Python 3 ",
   "language": "python",
   "name": "python3"
  },
  "language_info": {
   "codemirror_mode": {
    "name": "ipython",
    "version": 3
   },
   "file_extension": ".py",
   "mimetype": "text/x-python",
   "name": "python",
   "nbconvert_exporter": "python",
   "pygments_lexer": "ipython3",
   "version": "3.9.6"
  }
 },
 "nbformat": 4,
 "nbformat_minor": 5
}
