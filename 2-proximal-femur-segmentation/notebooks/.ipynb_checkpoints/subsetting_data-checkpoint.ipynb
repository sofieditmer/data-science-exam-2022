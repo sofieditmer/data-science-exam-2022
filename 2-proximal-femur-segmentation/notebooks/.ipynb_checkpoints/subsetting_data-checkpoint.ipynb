{
 "cells": [
  {
   "cell_type": "code",
   "execution_count": 44,
   "id": "426e665e-efa8-426f-9da5-d13561e4442f",
   "metadata": {
    "execution": {
     "iopub.execute_input": "2022-05-25T08:01:34.007591Z",
     "iopub.status.busy": "2022-05-25T08:01:34.007071Z",
     "iopub.status.idle": "2022-05-25T08:01:34.013350Z",
     "shell.execute_reply": "2022-05-25T08:01:34.012431Z",
     "shell.execute_reply.started": "2022-05-25T08:01:34.007542Z"
    },
    "tags": []
   },
   "outputs": [],
   "source": [
    "import os\n",
    "import random\n",
    "import shutil"
   ]
  },
  {
   "cell_type": "code",
   "execution_count": 103,
   "id": "1e886b85-0fd6-4afb-8f80-5883525322be",
   "metadata": {
    "execution": {
     "iopub.execute_input": "2022-05-25T08:14:14.304682Z",
     "iopub.status.busy": "2022-05-25T08:14:14.304064Z",
     "iopub.status.idle": "2022-05-25T08:14:14.311997Z",
     "shell.execute_reply": "2022-05-25T08:14:14.311006Z",
     "shell.execute_reply.started": "2022-05-25T08:14:14.304635Z"
    },
    "tags": []
   },
   "outputs": [],
   "source": [
    "femurs = sorted(os.listdir(\"proximal_femur\"))\n",
    "femurs.remove('.ipynb_checkpoints')"
   ]
  },
  {
   "cell_type": "code",
   "execution_count": 104,
   "id": "460e20ec-be09-42f2-999a-e0dfb2f35137",
   "metadata": {
    "execution": {
     "iopub.execute_input": "2022-05-25T08:14:15.610811Z",
     "iopub.status.busy": "2022-05-25T08:14:15.610196Z",
     "iopub.status.idle": "2022-05-25T08:14:15.619079Z",
     "shell.execute_reply": "2022-05-25T08:14:15.617935Z",
     "shell.execute_reply.started": "2022-05-25T08:14:15.610762Z"
    },
    "tags": []
   },
   "outputs": [
    {
     "data": {
      "text/plain": [
       "449"
      ]
     },
     "execution_count": 104,
     "metadata": {},
     "output_type": "execute_result"
    }
   ],
   "source": [
    "len(femurs)"
   ]
  },
  {
   "cell_type": "code",
   "execution_count": 105,
   "id": "58184c3e-ddbf-4a5c-a264-94469e305880",
   "metadata": {
    "execution": {
     "iopub.execute_input": "2022-05-25T08:14:16.822704Z",
     "iopub.status.busy": "2022-05-25T08:14:16.822102Z",
     "iopub.status.idle": "2022-05-25T08:14:16.829831Z",
     "shell.execute_reply": "2022-05-25T08:14:16.828593Z",
     "shell.execute_reply.started": "2022-05-25T08:14:16.822655Z"
    },
    "tags": []
   },
   "outputs": [],
   "source": [
    "shuffled = femurs.copy()\n",
    "random.Random(3).shuffle(shuffled)"
   ]
  },
  {
   "cell_type": "code",
   "execution_count": 106,
   "id": "29fdb039-a5c1-4744-a980-00c308d62232",
   "metadata": {
    "execution": {
     "iopub.execute_input": "2022-05-25T08:14:19.023900Z",
     "iopub.status.busy": "2022-05-25T08:14:19.023300Z",
     "iopub.status.idle": "2022-05-25T08:14:19.033381Z",
     "shell.execute_reply": "2022-05-25T08:14:19.032668Z",
     "shell.execute_reply.started": "2022-05-25T08:14:19.023852Z"
    },
    "tags": []
   },
   "outputs": [],
   "source": [
    "im01 = list(filter(lambda name: \"_01.\" in name or \"_012.\" in name, shuffled))\n",
    "im02 = list(filter(lambda name: \"_02_\" in name or \"_02.\" in name, shuffled))\n",
    "im03 = list(filter(lambda name: \"_03.\" in name or \"_032.\" in name, shuffled))\n",
    "im04 =list(filter(lambda name: \"_04_\" in name or \"_04.\" in name or \"_04 (1)\" in name, shuffled))"
   ]
  },
  {
   "cell_type": "code",
   "execution_count": 107,
   "id": "98f85ba6-3fa6-482d-8edc-6eae0fce4c12",
   "metadata": {
    "execution": {
     "iopub.execute_input": "2022-05-25T08:14:19.464335Z",
     "iopub.status.busy": "2022-05-25T08:14:19.463762Z",
     "iopub.status.idle": "2022-05-25T08:14:19.472934Z",
     "shell.execute_reply": "2022-05-25T08:14:19.471804Z",
     "shell.execute_reply.started": "2022-05-25T08:14:19.464288Z"
    },
    "tags": []
   },
   "outputs": [
    {
     "data": {
      "text/plain": [
       "449"
      ]
     },
     "execution_count": 107,
     "metadata": {},
     "output_type": "execute_result"
    }
   ],
   "source": [
    "len(im01+im02+im03+im04)"
   ]
  },
  {
   "cell_type": "code",
   "execution_count": 108,
   "id": "2b890373-5511-4a8a-95ba-83ce581efa4e",
   "metadata": {
    "execution": {
     "iopub.execute_input": "2022-05-25T08:14:24.284721Z",
     "iopub.status.busy": "2022-05-25T08:14:24.283662Z",
     "iopub.status.idle": "2022-05-25T08:14:24.294240Z",
     "shell.execute_reply": "2022-05-25T08:14:24.293214Z",
     "shell.execute_reply.started": "2022-05-25T08:14:24.284672Z"
    },
    "tags": []
   },
   "outputs": [],
   "source": [
    "subset = im01[:50] + im02[:50] + im03[:50] + im04[:50]\n",
    "im01 = list(filter(lambda name: \"_01.\" in name or \"_012.\" in name, subset))\n",
    "im02 = list(filter(lambda name: \"_02_\" in name or \"_02.\" in name, subset))\n",
    "im03 = list(filter(lambda name: \"_03.\" in name or \"_032.\" in name, subset))\n",
    "im04 =list(filter(lambda name: \"_04_\" in name or \"_04.\" in name or \"_04 (1)\" in name, subset))"
   ]
  },
  {
   "cell_type": "code",
   "execution_count": 109,
   "id": "9b502fa4-87fe-456b-a831-c311c08018a3",
   "metadata": {
    "execution": {
     "iopub.execute_input": "2022-05-25T08:14:24.698724Z",
     "iopub.status.busy": "2022-05-25T08:14:24.698124Z",
     "iopub.status.idle": "2022-05-25T08:14:24.706703Z",
     "shell.execute_reply": "2022-05-25T08:14:24.705603Z",
     "shell.execute_reply.started": "2022-05-25T08:14:24.698676Z"
    },
    "tags": []
   },
   "outputs": [
    {
     "data": {
      "text/plain": [
       "200"
      ]
     },
     "execution_count": 109,
     "metadata": {},
     "output_type": "execute_result"
    }
   ],
   "source": [
    "len(subset)"
   ]
  },
  {
   "cell_type": "code",
   "execution_count": 110,
   "id": "556033ba-970a-4ca4-b64c-50139df3140e",
   "metadata": {
    "execution": {
     "iopub.execute_input": "2022-05-25T08:14:59.502059Z",
     "iopub.status.busy": "2022-05-25T08:14:59.501470Z",
     "iopub.status.idle": "2022-05-25T08:15:05.371472Z",
     "shell.execute_reply": "2022-05-25T08:15:05.370050Z",
     "shell.execute_reply.started": "2022-05-25T08:14:59.502013Z"
    },
    "tags": []
   },
   "outputs": [],
   "source": [
    "for file in subset:\n",
    "    filepath = os.path.join(\"proximal_femur\", file)\n",
    "    copypath = os.path.join(\"annotation_subset\", file)\n",
    "    shutil.copyfile(filepath, copypath)"
   ]
  },
  {
   "cell_type": "code",
   "execution_count": 111,
   "id": "e7fccb2a-6ac4-4d83-a813-fd9362339896",
   "metadata": {
    "execution": {
     "iopub.execute_input": "2022-05-25T08:15:09.754351Z",
     "iopub.status.busy": "2022-05-25T08:15:09.753303Z",
     "iopub.status.idle": "2022-05-25T08:15:09.766524Z",
     "shell.execute_reply": "2022-05-25T08:15:09.765351Z",
     "shell.execute_reply.started": "2022-05-25T08:15:09.754300Z"
    },
    "tags": []
   },
   "outputs": [
    {
     "data": {
      "text/plain": [
       "200"
      ]
     },
     "execution_count": 111,
     "metadata": {},
     "output_type": "execute_result"
    }
   ],
   "source": [
    "test = sorted(os.listdir(\"annotation_subset\"))\n",
    "len(test)"
   ]
  },
  {
   "cell_type": "code",
   "execution_count": null,
   "id": "7590d17e-2aa8-4b46-a5a3-c6a5e1c75fdd",
   "metadata": {},
   "outputs": [],
   "source": []
  }
 ],
 "metadata": {
  "kernelspec": {
   "display_name": "Python 3 ",
   "language": "python",
   "name": "python3"
  },
  "language_info": {
   "codemirror_mode": {
    "name": "ipython",
    "version": 3
   },
   "file_extension": ".py",
   "mimetype": "text/x-python",
   "name": "python",
   "nbconvert_exporter": "python",
   "pygments_lexer": "ipython3",
   "version": "3.9.6"
  }
 },
 "nbformat": 4,
 "nbformat_minor": 5
}
