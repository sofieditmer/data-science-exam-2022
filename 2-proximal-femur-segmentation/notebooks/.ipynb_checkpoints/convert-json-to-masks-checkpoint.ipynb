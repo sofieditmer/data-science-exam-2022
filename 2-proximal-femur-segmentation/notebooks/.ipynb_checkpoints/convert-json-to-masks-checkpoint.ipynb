{
 "cells": [
  {
   "cell_type": "markdown",
   "id": "f18f6035-172b-41b1-bde9-4e432647b50b",
   "metadata": {},
   "source": [
    "# Converting JSON annotations to mask for U-Net"
   ]
  },
  {
   "cell_type": "code",
   "execution_count": 110,
   "id": "81559f20-496a-45a4-b2d2-20865b1ffc91",
   "metadata": {
    "execution": {
     "iopub.execute_input": "2022-05-25T12:35:52.312459Z",
     "iopub.status.busy": "2022-05-25T12:35:52.311941Z",
     "iopub.status.idle": "2022-05-25T12:35:52.320133Z",
     "shell.execute_reply": "2022-05-25T12:35:52.319057Z",
     "shell.execute_reply.started": "2022-05-25T12:35:52.312394Z"
    },
    "tags": []
   },
   "outputs": [],
   "source": [
    "import os\n",
    "import json\n",
    "import matplotlib.pyplot as plt\n",
    "import numpy as np\n",
    "import PIL\n",
    "from PIL import Image, ImageDraw\n",
    "import cv2"
   ]
  },
  {
   "cell_type": "code",
   "execution_count": 1,
   "id": "340fe528-95be-4853-8182-aa224cab43d0",
   "metadata": {
    "execution": {
     "iopub.execute_input": "2022-05-30T15:17:08.858454Z",
     "iopub.status.busy": "2022-05-30T15:17:08.857762Z",
     "iopub.status.idle": "2022-05-30T15:17:08.873809Z",
     "shell.execute_reply": "2022-05-30T15:17:08.872761Z",
     "shell.execute_reply.started": "2022-05-30T15:17:08.858403Z"
    },
    "tags": []
   },
   "outputs": [],
   "source": [
    "# Function adapted from https://linuxtut.com/en/72be9c078ae3fe337bb4/?fbclid=IwAR3rt8uRQHgmGcTJstgAgRnr3NJCA-bCYAWJ7der3uIe2ks1EPCDML0sdiQ\n",
    "\n",
    "def shape_to_mask(\n",
    "    img_shape, points, shape_type=None, line_width=10, point_size=5\n",
    "):\n",
    "    mask = np.zeros(img_shape[:2], dtype=np.uint8)\n",
    "    mask = PIL.Image.fromarray(mask)\n",
    "    draw = PIL.ImageDraw.Draw(mask)\n",
    "    xy = [tuple(point) for point in points]\n",
    "    if shape_type == \"circle\":\n",
    "        assert len(xy) == 2, \"Shape of shape_type=circle must have 2 points\"\n",
    "        (cx, cy), (px, py) = xy\n",
    "        d = math.sqrt((cx - px) ** 2 + (cy - py) ** 2)\n",
    "        draw.ellipse([cx - d, cy - d, cx + d, cy + d], outline=1, fill=1)\n",
    "    elif shape_type == \"rectangle\":\n",
    "        assert len(xy) == 2, \"Shape of shape_type=rectangle must have 2 points\"\n",
    "        draw.rectangle(xy, outline=1, fill=1)\n",
    "    elif shape_type == \"line\":\n",
    "        assert len(xy) == 2, \"Shape of shape_type=line must have 2 points\"\n",
    "        draw.line(xy=xy, fill=1, width=line_width)\n",
    "    elif shape_type == \"linestrip\":\n",
    "        draw.line(xy=xy, fill=1, width=line_width)\n",
    "    elif shape_type == \"point\":\n",
    "        assert len(xy) == 1, \"Shape of shape_type=point must have 1 points\"\n",
    "        cx, cy = xy[0]\n",
    "        r = point_size\n",
    "        draw.ellipse([cx - r, cy - r, cx + r, cy + r], outline=1, fill=1)\n",
    "    else:\n",
    "        assert len(xy) > 2, \"Polygon must have points more than 2\"\n",
    "        draw.polygon(xy=xy, outline=1, fill=1)\n",
    "    mask = np.array(mask, dtype=bool)\n",
    "    return mask"
   ]
  },
  {
   "cell_type": "code",
   "execution_count": 112,
   "id": "ab8a90b8-42b6-4380-828a-3a9e9a3864b8",
   "metadata": {
    "execution": {
     "iopub.execute_input": "2022-05-25T12:35:57.541366Z",
     "iopub.status.busy": "2022-05-25T12:35:57.540866Z",
     "iopub.status.idle": "2022-05-25T12:35:57.548611Z",
     "shell.execute_reply": "2022-05-25T12:35:57.547585Z",
     "shell.execute_reply.started": "2022-05-25T12:35:57.541316Z"
    },
    "tags": []
   },
   "outputs": [],
   "source": [
    "# Get annotations\n",
    "annotations = os.listdir(\"data/segmentation/json_annotations\")\n",
    "annotations.remove(\".ipynb_checkpoints\")"
   ]
  },
  {
   "cell_type": "code",
   "execution_count": 113,
   "id": "ca7e1b6b-98ad-416d-8b0a-4aa17989b78d",
   "metadata": {
    "execution": {
     "iopub.execute_input": "2022-05-25T12:36:00.528456Z",
     "iopub.status.busy": "2022-05-25T12:36:00.527950Z",
     "iopub.status.idle": "2022-05-25T12:36:00.928475Z",
     "shell.execute_reply": "2022-05-25T12:36:00.927599Z",
     "shell.execute_reply.started": "2022-05-25T12:36:00.528390Z"
    },
    "tags": []
   },
   "outputs": [],
   "source": [
    "for file in annotations:\n",
    "    filepath = os.path.join(\"data\", \"segmentation\", \"json_annotations\", file)\n",
    "    name = os.path.splitext(file)[0]\n",
    "    \n",
    "    with open(filepath, \"r\", encoding=\"utf-8\") as f:\n",
    "        \n",
    "        loaded_file = json.load(f)\n",
    "        mask = shape_to_mask((loaded_file['imageHeight'], loaded_file['imageWidth']), loaded_file['shapes'][0]['points'], shape_type=None,line_width=1, point_size=1)\n",
    "        mask_img = mask.astype(int) # with 0 and 1\n",
    "        mask_img_pixel = mask_img*255\n",
    "        cv2.imwrite(\"data/segmentation/masks/\" + name + \".jpg\", mask_img_pixel)"
   ]
  },
  {
   "cell_type": "code",
   "execution_count": null,
   "id": "24a4638d-5fe6-43ec-bffb-377db11aa9c3",
   "metadata": {},
   "outputs": [],
   "source": []
  }
 ],
 "metadata": {
  "kernelspec": {
   "display_name": "Python 3 ",
   "language": "python",
   "name": "python3"
  },
  "language_info": {
   "codemirror_mode": {
    "name": "ipython",
    "version": 3
   },
   "file_extension": ".py",
   "mimetype": "text/x-python",
   "name": "python",
   "nbconvert_exporter": "python",
   "pygments_lexer": "ipython3",
   "version": "3.9.6"
  }
 },
 "nbformat": 4,
 "nbformat_minor": 5
}
