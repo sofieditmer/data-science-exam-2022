{
 "cells": [
  {
   "cell_type": "markdown",
   "id": "96952e87-a1d7-41cd-8b12-4046887a1b36",
   "metadata": {},
   "source": [
    "## Split Data for Proximal Femur Segmentation\n",
    "\n",
    "This notebook was used to split the data into train, validation and test data for training and evaluating U-Net on semantic segmentation of proximal femurs detected by YOLOv5. "
   ]
  },
  {
   "cell_type": "code",
   "execution_count": 37,
   "id": "31b87bbd-c18f-4711-a7c1-714542eda54f",
   "metadata": {
    "execution": {
     "iopub.execute_input": "2022-05-26T08:19:18.234435Z",
     "iopub.status.busy": "2022-05-26T08:19:18.234134Z",
     "iopub.status.idle": "2022-05-26T08:19:18.237642Z",
     "shell.execute_reply": "2022-05-26T08:19:18.237114Z",
     "shell.execute_reply.started": "2022-05-26T08:19:18.234410Z"
    },
    "tags": []
   },
   "outputs": [],
   "source": [
    "import os\n",
    "import glob\n",
    "import random\n",
    "import shutil\n",
    "from sklearn.model_selection import train_test_split"
   ]
  },
  {
   "cell_type": "code",
   "execution_count": 24,
   "id": "0ed2262b-961a-461d-a012-9b37e946ec0c",
   "metadata": {
    "execution": {
     "iopub.execute_input": "2022-05-26T08:13:53.561558Z",
     "iopub.status.busy": "2022-05-26T08:13:53.560905Z",
     "iopub.status.idle": "2022-05-26T08:13:53.570950Z",
     "shell.execute_reply": "2022-05-26T08:13:53.569983Z",
     "shell.execute_reply.started": "2022-05-26T08:13:53.561516Z"
    },
    "tags": []
   },
   "outputs": [],
   "source": [
    "all_images = []\n",
    "for file in glob.glob(\"../data/segmentation/images/*.jpg\"):\n",
    "    all_images.append(file)\n",
    "\n",
    "all_masks = []\n",
    "for file in glob.glob(\"../data/segmentation/masks/*.jpg\"):\n",
    "    all_masks.append(file)"
   ]
  },
  {
   "cell_type": "code",
   "execution_count": 25,
   "id": "009351c0-cfb0-4eb7-9654-3121f0bf856a",
   "metadata": {
    "execution": {
     "iopub.execute_input": "2022-05-26T08:13:54.368464Z",
     "iopub.status.busy": "2022-05-26T08:13:54.367866Z",
     "iopub.status.idle": "2022-05-26T08:13:54.373725Z",
     "shell.execute_reply": "2022-05-26T08:13:54.372722Z",
     "shell.execute_reply.started": "2022-05-26T08:13:54.368407Z"
    },
    "tags": []
   },
   "outputs": [],
   "source": [
    "all_images = sorted(all_images)\n",
    "all_masks = sorted(all_masks)"
   ]
  },
  {
   "cell_type": "code",
   "execution_count": 26,
   "id": "a36508df-b952-49f7-9ae6-2e869639d864",
   "metadata": {
    "execution": {
     "iopub.execute_input": "2022-05-26T08:13:54.375934Z",
     "iopub.status.busy": "2022-05-26T08:13:54.375551Z",
     "iopub.status.idle": "2022-05-26T08:13:54.534690Z",
     "shell.execute_reply": "2022-05-26T08:13:54.533411Z",
     "shell.execute_reply.started": "2022-05-26T08:13:54.375889Z"
    },
    "tags": []
   },
   "outputs": [],
   "source": [
    "im01 = list(filter(lambda name: \"_01.\" in name or \"_012.\" in name, all_images))\n",
    "im02 = list(filter(lambda name: \"_02_\" in name or \"_02.\" in name, all_images))\n",
    "im03 = list(filter(lambda name: \"_03.\" in name or \"_032.\" in name, all_images))\n",
    "im04 =list(filter(lambda name: \"_04_\" in name or \"_04.\" in name or \"_04 (1)\" in name, all_images))"
   ]
  },
  {
   "cell_type": "code",
   "execution_count": 29,
   "id": "6fcc8c2d-5cef-4a77-9180-543c66b34d44",
   "metadata": {
    "execution": {
     "iopub.execute_input": "2022-05-26T08:14:30.656027Z",
     "iopub.status.busy": "2022-05-26T08:14:30.655557Z",
     "iopub.status.idle": "2022-05-26T08:14:30.662629Z",
     "shell.execute_reply": "2022-05-26T08:14:30.661845Z",
     "shell.execute_reply.started": "2022-05-26T08:14:30.655985Z"
    },
    "tags": []
   },
   "outputs": [],
   "source": [
    "train = []\n",
    "val = []\n",
    "test = []\n",
    "\n",
    "for im in [im01,im02,im03,im04]:\n",
    "    random.Random(3).shuffle(im)\n",
    "    im_train = im[:20]\n",
    "    im_val = im[20:35]\n",
    "    im_test = im[35:]\n",
    "    train = train + im_train\n",
    "    val = val + im_val\n",
    "    test = test + im_test"
   ]
  },
  {
   "cell_type": "code",
   "execution_count": 38,
   "id": "df3b08dc-83cb-4f7b-8453-b53a47f7b274",
   "metadata": {
    "execution": {
     "iopub.execute_input": "2022-05-26T08:19:21.726509Z",
     "iopub.status.busy": "2022-05-26T08:19:21.726206Z",
     "iopub.status.idle": "2022-05-26T08:19:29.236304Z",
     "shell.execute_reply": "2022-05-26T08:19:29.235187Z",
     "shell.execute_reply.started": "2022-05-26T08:19:21.726481Z"
    },
    "tags": []
   },
   "outputs": [],
   "source": [
    "for file in train:\n",
    "    image_original = file\n",
    "    image_copypath = image_original.replace(\"images/\", \"train/images/\")\n",
    "    shutil.copyfile(image_original, image_copypath)\n",
    "    \n",
    "    mask_original = file.replace(\"images/\", \"masks/\")\n",
    "    mask_copypath = mask_original.replace(\"masks/\", \"train/masks/\")\n",
    "    shutil.copyfile(mask_original, mask_copypath)"
   ]
  },
  {
   "cell_type": "code",
   "execution_count": 39,
   "id": "75f0137f-2d01-40df-b44e-a32fa94332d6",
   "metadata": {
    "execution": {
     "iopub.execute_input": "2022-05-26T08:20:09.672568Z",
     "iopub.status.busy": "2022-05-26T08:20:09.672183Z",
     "iopub.status.idle": "2022-05-26T08:20:15.448341Z",
     "shell.execute_reply": "2022-05-26T08:20:15.447046Z",
     "shell.execute_reply.started": "2022-05-26T08:20:09.672531Z"
    }
   },
   "outputs": [],
   "source": [
    "for file in val:\n",
    "    image_original = file\n",
    "    image_copypath = image_original.replace(\"images/\", \"val/images/\")\n",
    "    shutil.copyfile(image_original, image_copypath)\n",
    "    \n",
    "    mask_original = file.replace(\"images/\", \"masks/\")\n",
    "    mask_copypath = mask_original.replace(\"masks/\", \"val/masks/\")\n",
    "    shutil.copyfile(mask_original, mask_copypath)"
   ]
  },
  {
   "cell_type": "code",
   "execution_count": 40,
   "id": "c0c77192-d6dc-40a2-9ea7-fa7972b3862c",
   "metadata": {
    "execution": {
     "iopub.execute_input": "2022-05-26T08:20:17.424833Z",
     "iopub.status.busy": "2022-05-26T08:20:17.424186Z",
     "iopub.status.idle": "2022-05-26T08:20:23.239223Z",
     "shell.execute_reply": "2022-05-26T08:20:23.238192Z",
     "shell.execute_reply.started": "2022-05-26T08:20:17.424773Z"
    },
    "tags": []
   },
   "outputs": [],
   "source": [
    "for file in test:\n",
    "    image_original = file\n",
    "    image_copypath = image_original.replace(\"images/\", \"test/images/\")\n",
    "    shutil.copyfile(image_original, image_copypath)\n",
    "    \n",
    "    mask_original = file.replace(\"images/\", \"masks/\")\n",
    "    mask_copypath = mask_original.replace(\"masks/\", \"test/masks/\")\n",
    "    shutil.copyfile(mask_original, mask_copypath)"
   ]
  }
 ],
 "metadata": {
  "kernelspec": {
   "display_name": "Python 3 ",
   "language": "python",
   "name": "python3"
  },
  "language_info": {
   "codemirror_mode": {
    "name": "ipython",
    "version": 3
   },
   "file_extension": ".py",
   "mimetype": "text/x-python",
   "name": "python",
   "nbconvert_exporter": "python",
   "pygments_lexer": "ipython3",
   "version": "3.9.6"
  }
 },
 "nbformat": 4,
 "nbformat_minor": 5
}
